{
 "cells": [
  {
   "cell_type": "markdown",
   "id": "31d0b102-f961-4bf6-bb7e-2d0238fb9ea1",
   "metadata": {},
   "source": [
    "## Data Analysis with Contrastive Principle Component Analysis (CPCA) "
   ]
  },
  {
   "cell_type": "markdown",
   "id": "9a2c1b5a-743f-4d59-b0ef-e9d18b216cd2",
   "metadata": {},
   "source": [
    "Using d_xy value as Hyperparameter in Contrastive Principle Component Analysis (CPCA) \n",
    "\n",
    "The CPCA repository is here: https://github.com/abidlabs/contrastive"
   ]
  },
  {
   "cell_type": "code",
   "execution_count": 1,
   "id": "d0dee951-d1b6-443f-bbff-c2768999e0fe",
   "metadata": {},
   "outputs": [],
   "source": [
    "import numpy as np\n",
    "import pandas as pd"
   ]
  },
  {
   "cell_type": "code",
   "execution_count": 2,
   "id": "0b5e71ad-b1f9-467d-95f7-d7909ba34a0e",
   "metadata": {},
   "outputs": [
    {
     "name": "stdout",
     "output_type": "stream",
     "text": [
      "background shape:  (11268, 47)\n",
      "foreground_Etop shape:  (4315, 47)\n",
      "foreground_H2O2 shape:  (5015, 47)\n",
      "foreground_Starve shape:  (3007, 47)\n"
     ]
    }
   ],
   "source": [
    "background_control = pd.read_csv(\"background_control.csv\")\n",
    "foreground_Etop = pd.read_csv(\"foreground_Etop.csv\")\n",
    "foreground_H2O2 = pd.read_csv(\"foreground_H2O2.csv\")\n",
    "foreground_Starve = pd.read_csv(\"foreground_Starve.csv\")\n",
    "\n",
    "print(\"background shape: \", background_control.shape)\n",
    "print(\"foreground_Etop shape: \", foreground_Etop.shape)\n",
    "print(\"foreground_H2O2 shape: \", foreground_H2O2.shape)\n",
    "print(\"foreground_Starve shape: \", foreground_Starve.shape)"
   ]
  },
  {
   "cell_type": "markdown",
   "id": "d6d766ba-5020-49f4-9a6a-52871c93089f",
   "metadata": {},
   "source": [
    "## Compute projection matrix V from CPCA"
   ]
  },
  {
   "cell_type": "code",
   "execution_count": 3,
   "id": "af57ba2a-8907-4542-85ab-3c682e2c8953",
   "metadata": {},
   "outputs": [],
   "source": [
    "import scipy\n",
    "from scipy.linalg import eig"
   ]
  },
  {
   "cell_type": "markdown",
   "id": "62143039-d5b6-496e-8787-537c8a3817d6",
   "metadata": {},
   "source": [
    "### Compute V_Etop "
   ]
  },
  {
   "cell_type": "code",
   "execution_count": 4,
   "id": "46df21d8-1294-4478-8fe4-57c503184123",
   "metadata": {},
   "outputs": [],
   "source": [
    "# Normalize foreground_Etop before CPCA (centralized to have mean = 0 and standardized to have variance = 1) \n",
    "\n",
    "foreground_Etop = foreground_Etop - np.mean(foreground_Etop, axis=0)\n",
    "foreground_Etop = foreground_Etop/ np.std(foreground_Etop, axis=0)"
   ]
  },
  {
   "cell_type": "code",
   "execution_count": 7,
   "id": "4e2e149e-1cd6-44ed-b02a-de54c5d29ff2",
   "metadata": {},
   "outputs": [],
   "source": [
    "# # Check: \n",
    "# print(np.mean(foreground_Etop, axis=0))\n",
    "# print(np.var(foreground_Etop, axis=0))"
   ]
  },
  {
   "cell_type": "code",
   "execution_count": 8,
   "id": "8a6d4fb4-a021-461a-954c-994621cc073f",
   "metadata": {},
   "outputs": [
    {
     "name": "stdout",
     "output_type": "stream",
     "text": [
      "Etop top eigenvalues:  [8.94042964+0.j 5.69996251+0.j 2.18679736+0.j 1.55742766+0.j\n",
      " 1.4306453 +0.j 1.21906166+0.j 1.07483742+0.j 0.8079107 +0.j]\n"
     ]
    }
   ],
   "source": [
    "# Contruct the contrastive covariance matrix\n",
    "alpha = 1 \n",
    "contrastive_cov_Etop = np.cov(foreground_Etop.T) - alpha * np.cov(background_control.T)\n",
    "\n",
    "# take the top 8 eigenvector of the contrastive_cov\n",
    "d_etop = 8\n",
    "eigvals, eigvecs = eig(contrastive_cov_Etop)\n",
    "\n",
    "\n",
    "# sort eigenvalues in descending order and also the corresponding eigenvectors\n",
    "idx = eigvals.argsort()[::-1]  \n",
    "eigvals = eigvals[idx]\n",
    "print(\"Etop top eigenvalues: \", eigvals[:d_etop])\n",
    "eigvecs = eigvecs[:,idx]\n"
   ]
  },
  {
   "cell_type": "code",
   "execution_count": 9,
   "id": "af89ede1-839c-4e0e-b6b7-caa52b3f0cf3",
   "metadata": {},
   "outputs": [],
   "source": [
    "# Get V_Etop\n",
    "V_Etop = eigvecs[:, :d_etop]\n",
    "V_Etop = pd.DataFrame(V_Etop)\n",
    "\n",
    "# enforce the first entry of each PC to be positive\n",
    "for i in range(V_Etop.shape[1]):\n",
    "    if V_Etop.iloc[0, i] < 0: \n",
    "        V_Etop.iloc[:, i] = -V_Etop.iloc[:, i]\n",
    "        \n",
    "V_Etop.to_csv(\"V_Etop.csv\", index=False)"
   ]
  },
  {
   "cell_type": "code",
   "execution_count": 10,
   "id": "f939ec03-8d81-43b7-9534-aaf5edc10d98",
   "metadata": {},
   "outputs": [
    {
     "name": "stdout",
     "output_type": "stream",
     "text": [
      "(47, 8)\n"
     ]
    }
   ],
   "source": [
    "print(V_Etop.shape)"
   ]
  },
  {
   "cell_type": "markdown",
   "id": "91341956-4e0d-4d8d-8fea-b77a648879c8",
   "metadata": {},
   "source": [
    "### Compute V_H202"
   ]
  },
  {
   "cell_type": "code",
   "execution_count": 11,
   "id": "391de8c1-ceaf-41f6-9b8e-43f94d4a53a5",
   "metadata": {},
   "outputs": [],
   "source": [
    "# Normailize \n",
    "foreground_H2O2 = foreground_H2O2 - np.mean(foreground_H2O2, axis=0)\n",
    "foreground_H2O2 = foreground_H2O2/ np.std(foreground_H2O2, axis=0)\n",
    "# # Check: \n",
    "# print(np.mean(foreground_H2O2, axis=0))\n",
    "# print(np.var(foreground_H2O2, axis=0))"
   ]
  },
  {
   "cell_type": "code",
   "execution_count": 12,
   "id": "cbb8bfb2-d74b-439a-858d-e2a6a29f7d3c",
   "metadata": {},
   "outputs": [
    {
     "name": "stdout",
     "output_type": "stream",
     "text": [
      "H2O2 top eigenvalues:  [6.4017715 +0.j 6.33491241+0.j 2.66078101+0.j 1.63183019+0.j\n",
      " 1.19695476+0.j 1.08556933+0.j 0.77127167+0.j]\n"
     ]
    }
   ],
   "source": [
    "# Contruct the contrastive covariance matrix\n",
    "alpha = 1 \n",
    "contrastive_cov_H2O2 = np.cov(foreground_H2O2.T) - alpha * np.cov(background_control.T)\n",
    "\n",
    "# take the top 8 eigenvector of the contrastive_cov\n",
    "d_H2O2 = 7\n",
    "eigvals, eigvecs = eig(contrastive_cov_H2O2)\n",
    "\n",
    "\n",
    "# sort eigenvalues in descending order and also the corresponding eigenvectors\n",
    "idx = eigvals.argsort()[::-1]  \n",
    "eigvals = eigvals[idx]\n",
    "print(\"H2O2 top eigenvalues: \", eigvals[:d_H2O2])\n",
    "eigvecs = eigvecs[:,idx]\n"
   ]
  },
  {
   "cell_type": "code",
   "execution_count": 13,
   "id": "ecf5e56e-a253-4783-90e1-d691e7407a31",
   "metadata": {},
   "outputs": [],
   "source": [
    "# Get V_Etop\n",
    "V_H2O2 = eigvecs[:, :d_H2O2]\n",
    "V_H2O2 = pd.DataFrame(V_H2O2)\n",
    "\n",
    "# enforce the first entry of each PC to be positive\n",
    "for i in range(V_H2O2.shape[1]):\n",
    "    if V_H2O2.iloc[0, i] < 0: \n",
    "        V_H2O2.iloc[:, i] = -V_H2O2.iloc[:, i]\n",
    "        \n",
    "        \n",
    "V_H2O2.to_csv(\"V_H2O2.csv\", index=False)"
   ]
  },
  {
   "cell_type": "code",
   "execution_count": 14,
   "id": "10a4350f-e31b-45c0-9921-9cc4c0c3af86",
   "metadata": {},
   "outputs": [
    {
     "name": "stdout",
     "output_type": "stream",
     "text": [
      "(47, 7)\n"
     ]
    }
   ],
   "source": [
    "print(V_H2O2.shape)"
   ]
  },
  {
   "cell_type": "markdown",
   "id": "a76d632e-ada9-479a-bd14-95ee8df6ba65",
   "metadata": {},
   "source": [
    "### Compute V_Starve"
   ]
  },
  {
   "cell_type": "code",
   "execution_count": 15,
   "id": "3bdce1c0-726f-4657-8251-5f009d9fed4d",
   "metadata": {},
   "outputs": [],
   "source": [
    "# Normailize \n",
    "foreground_Starve = foreground_Starve - np.mean(foreground_Starve, axis=0)\n",
    "foreground_Starve = foreground_Starve/ np.std(foreground_Starve, axis=0)\n",
    "# # Check: \n",
    "# print(np.mean(foreground_Starve, axis=0))\n",
    "# print(np.var(foreground_Starve, axis=0))"
   ]
  },
  {
   "cell_type": "code",
   "execution_count": 16,
   "id": "c977e951-c6a3-42bb-b438-eaa03aafa9a5",
   "metadata": {},
   "outputs": [
    {
     "name": "stdout",
     "output_type": "stream",
     "text": [
      "Starve top eigenvalues:  [11.30849214+0.j  3.0809889 +0.j  2.01629979+0.j  1.59925814+0.j\n",
      "  1.20332392+0.j]\n"
     ]
    }
   ],
   "source": [
    "# Contruct the contrastive covariance matrix\n",
    "alpha = 1 \n",
    "contrastive_cov_Starve = np.cov(foreground_Starve.T) - alpha * np.cov(background_control.T)\n",
    "\n",
    "# take the top 8 eigenvector of the contrastive_cov\n",
    "d_Starve = 5\n",
    "eigvals, eigvecs = eig(contrastive_cov_Starve)\n",
    "\n",
    "\n",
    "# sort eigenvalues in descending order and also the corresponding eigenvectors\n",
    "idx = eigvals.argsort()[::-1]  \n",
    "eigvals = eigvals[idx]\n",
    "print(\"Starve top eigenvalues: \", eigvals[:d_Starve])\n",
    "eigvecs = eigvecs[:,idx]\n"
   ]
  },
  {
   "cell_type": "code",
   "execution_count": 17,
   "id": "56d6f9cf-46c1-4f50-8799-73b8f2abcf42",
   "metadata": {},
   "outputs": [],
   "source": [
    "# Get V_Etop\n",
    "V_Starve = eigvecs[:, :d_Starve]\n",
    "V_Starve = pd.DataFrame(V_Starve)\n",
    "\n",
    "\n",
    "# enforce the first entry of each PC to be positive\n",
    "for i in range(V_Starve.shape[1]):\n",
    "    if V_Starve.iloc[0, i] < 0: \n",
    "        V_Starve.iloc[:, i] = -V_Starve.iloc[:, i]\n",
    "\n",
    "        \n",
    "V_Starve.to_csv(\"V_Starve.csv\", index=False)"
   ]
  },
  {
   "cell_type": "code",
   "execution_count": 18,
   "id": "7482ac1b-0ef4-4418-ae96-559d88c697d7",
   "metadata": {},
   "outputs": [
    {
     "name": "stdout",
     "output_type": "stream",
     "text": [
      "(47, 5)\n"
     ]
    }
   ],
   "source": [
    "print(V_Starve.shape)"
   ]
  },
  {
   "cell_type": "code",
   "execution_count": null,
   "id": "9bdcb976-30ac-4fb6-9e43-51bb47653ad6",
   "metadata": {},
   "outputs": [],
   "source": []
  }
 ],
 "metadata": {
  "kernelspec": {
   "display_name": "Python 3 (ipykernel)",
   "language": "python",
   "name": "python3"
  },
  "language_info": {
   "codemirror_mode": {
    "name": "ipython",
    "version": 3
   },
   "file_extension": ".py",
   "mimetype": "text/x-python",
   "name": "python",
   "nbconvert_exporter": "python",
   "pygments_lexer": "ipython3",
   "version": "3.10.9"
  }
 },
 "nbformat": 4,
 "nbformat_minor": 5
}
