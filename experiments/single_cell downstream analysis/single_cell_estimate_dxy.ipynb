{
 "cells": [
  {
   "cell_type": "markdown",
   "id": "ac6e4f60-afef-4fab-a450-c168348c4e22",
   "metadata": {},
   "source": [
    "## Hypothesis Test and Estimate d_xy"
   ]
  },
  {
   "cell_type": "markdown",
   "id": "1dff7153-53b2-4e16-b869-d10d2fcc6eb1",
   "metadata": {},
   "source": [
    "In this file, we are using the CDE methods proposed in the paper to detect the existance of contrastive dimension and estimate the contrastvie dimension value (d_xy)."
   ]
  },
  {
   "cell_type": "code",
   "execution_count": 1,
   "id": "e205b48b-66a6-4a60-a336-68378fdfc32e",
   "metadata": {},
   "outputs": [],
   "source": [
    "import numpy as np\n",
    "import pandas as pd"
   ]
  },
  {
   "cell_type": "code",
   "execution_count": 2,
   "id": "70a15968-3e7b-46fd-8c60-d3e5c3e20fd8",
   "metadata": {},
   "outputs": [
    {
     "name": "stdout",
     "output_type": "stream",
     "text": [
      "background shape:  (11268, 47)\n",
      "foreground_Etop shape:  (4315, 47)\n",
      "foreground_H2O2 shape:  (5015, 47)\n",
      "foreground_Starve shape:  (3007, 47)\n"
     ]
    }
   ],
   "source": [
    "background_control = pd.read_csv(\"background_control.csv\")\n",
    "foreground_Etop = pd.read_csv(\"foreground_Etop.csv\")\n",
    "foreground_H2O2 = pd.read_csv(\"foreground_H2O2.csv\")\n",
    "foreground_Starve = pd.read_csv(\"foreground_Starve.csv\")\n",
    "\n",
    "print(\"background shape: \", background_control.shape)\n",
    "print(\"foreground_Etop shape: \", foreground_Etop.shape)\n",
    "print(\"foreground_H2O2 shape: \", foreground_H2O2.shape)\n",
    "print(\"foreground_Starve shape: \", foreground_Starve.shape)"
   ]
  },
  {
   "cell_type": "markdown",
   "id": "5ae0bc5e-ac62-4ab1-aaab-a420adda1187",
   "metadata": {},
   "source": [
    "### CDE Methods"
   ]
  },
  {
   "cell_type": "code",
   "execution_count": 3,
   "id": "d36c2e0f-370a-4afd-a4da-fe1628ccfbb4",
   "metadata": {},
   "outputs": [],
   "source": [
    "import numpy as np\n",
    "import pandas as pd\n",
    "import skdim\n",
    "from scipy.linalg import eigh\n",
    "from sklearn.preprocessing import scale\n",
    "\n",
    "\n",
    "def id_estimators(df, k):\n",
    "    # Maximum Likelihood algorithm\n",
    "    MLE = skdim.id.MLE(K=k).fit(df).dimension_\n",
    "    # Method Of Moments algorithm\n",
    "    MOM = skdim.id.MOM().fit(df).dimension_\n",
    "    L = {\n",
    "        'MLE': MLE,\n",
    "        'MOM': MOM,\n",
    "    }\n",
    "    return L\n",
    "\n",
    "\n",
    "def est_V1_V2(X1, X2, d1, d2):\n",
    "    OUT = {}\n",
    "    p = X1.shape[1]\n",
    "    Cx1 = np.cov(X1, rowvar=False)\n",
    "    Cx2 = np.cov(X2, rowvar=False)\n",
    "    # eigenvalues python package in increasing order\n",
    "    val1, vectors1 = eigh(Cx1)\n",
    "    idx = np.argsort(val1)\n",
    "    descending_idx = idx[::-1]\n",
    "    vectors1 = vectors1[:, descending_idx]\n",
    "    V1 = vectors1[:, 0:d1]\n",
    "    val2, vectors2 = eigh(Cx2)\n",
    "    idx_ = np.argsort(val2)\n",
    "    descending_idx_ = idx_[::-1]\n",
    "    vectors2 = vectors2[:, descending_idx_]\n",
    "    V2 = vectors2[:, 0:d2]\n",
    "    OUT['V1'] = V1\n",
    "    OUT['V2'] = V2\n",
    "    return OUT\n",
    "\n",
    "\n",
    "def sigma1_test_stat(X1, X2, d1, d2):\n",
    "    OUT = est_V1_V2(X1, X2, d1, d2)\n",
    "    U = OUT['V1']\n",
    "    V = OUT['V2']\n",
    "    M = np.matmul(U.T, V)\n",
    "    _, cosines, _ = np.linalg.svd(M)\n",
    "    cosines = np.minimum(1, np.maximum(-1, cosines))\n",
    "    return cosines[::-1][0]     # first elt of reversed cosines list\n",
    "\n",
    "\n",
    "def sing_vals(U, V):\n",
    "    M = np.matmul(U.T, V)\n",
    "    _, cosines, _ = np.linalg.svd(M)\n",
    "    cosines = np.minimum(1, np.maximum(-1, cosines))\n",
    "    return cosines\n",
    "\n",
    "\n",
    "def boot_test(X1, X2, d1, d2, B):\n",
    "    X1 = scale(X1, with_mean=True, with_std=False)\n",
    "    X2 = scale(X2, with_mean=True, with_std=False)\n",
    "    test_stat = sigma1_test_stat(X1, X2, d1, d2)\n",
    "    n1 = len(X1)\n",
    "    n2 = len(X2)\n",
    "    boot_stats = []\n",
    "    for j in range(1, B+1):\n",
    "        # print(j)\n",
    "        idx1 = np.random.choice(range(n1), size=n1, replace=True)\n",
    "        X1t = X1[idx1, :]\n",
    "        combined = np.vstack((X1, X2))\n",
    "        idx2 = np.random.choice(range(n1+n2), size=n2, replace=True)\n",
    "        X2t = combined[idx2, :]\n",
    "        boot_stats.append(sigma1_test_stat(X1t, X2t, d1, d2))\n",
    "    p_value = np.mean(boot_stats < test_stat)\n",
    "    return {'test_stat': test_stat, 'p_value': p_value}\n",
    "\n",
    "\n",
    "def CD(X1, X2, d1, d2, epsilon=0.1, B=1000):\n",
    "    p = X1.shape[1]\n",
    "    OUT = est_V1_V2(X1, X2, d1, d2)\n",
    "    singular_vals = sing_vals(OUT['V1'], OUT['V2'])\n",
    "    singular_vals = singular_vals[::-1]\n",
    "    L = {}\n",
    "    L['CD'] = sum(singular_vals < 1 - epsilon) + max(d1 - d2, 0)\n",
    "    test = boot_test(X1, X2, d1, d2, B)\n",
    "    L['test_stat'] = test['test_stat']\n",
    "    L['p_value'] = test['p_value']\n",
    "    L['singular_vals'] = singular_vals\n",
    "    L['d1'] = d1\n",
    "    L['d2'] = d2\n",
    "    return L\n",
    "\n",
    "\n",
    "def CDE(fg, bg):\n",
    "    L1 = id_estimators(fg, 10)\n",
    "    d1 = round(L1[\"MOM\"])\n",
    "    L2 = id_estimators(bg, 10)\n",
    "    d2 = round(L2[\"MOM\"])\n",
    "    return CD(fg, bg, d1, d2)"
   ]
  },
  {
   "cell_type": "code",
   "execution_count": 4,
   "id": "3beaf354-2c70-4241-9081-084f2555048b",
   "metadata": {},
   "outputs": [
    {
     "name": "stderr",
     "output_type": "stream",
     "text": [
      "Exception ignored on calling ctypes callback function: <function _ThreadpoolInfo._find_modules_with_dl_iterate_phdr.<locals>.match_module_callback at 0x7f6a0a269990>\n",
      "Traceback (most recent call last):\n",
      "  File \"/nas/longleaf/rhel8/apps/anaconda/2023.03.ood/lib/python3.10/site-packages/threadpoolctl.py\", line 400, in match_module_callback\n",
      "    self._make_module_from_path(filepath)\n",
      "  File \"/nas/longleaf/rhel8/apps/anaconda/2023.03.ood/lib/python3.10/site-packages/threadpoolctl.py\", line 515, in _make_module_from_path\n",
      "    module = module_class(filepath, prefix, user_api, internal_api)\n",
      "  File \"/nas/longleaf/rhel8/apps/anaconda/2023.03.ood/lib/python3.10/site-packages/threadpoolctl.py\", line 606, in __init__\n",
      "    self.version = self.get_version()\n",
      "  File \"/nas/longleaf/rhel8/apps/anaconda/2023.03.ood/lib/python3.10/site-packages/threadpoolctl.py\", line 646, in get_version\n",
      "    config = get_config().split()\n",
      "AttributeError: 'NoneType' object has no attribute 'split'\n",
      "Exception ignored on calling ctypes callback function: <function _ThreadpoolInfo._find_modules_with_dl_iterate_phdr.<locals>.match_module_callback at 0x7f69ca631ab0>\n",
      "Traceback (most recent call last):\n",
      "  File \"/nas/longleaf/rhel8/apps/anaconda/2023.03.ood/lib/python3.10/site-packages/threadpoolctl.py\", line 400, in match_module_callback\n",
      "    self._make_module_from_path(filepath)\n",
      "  File \"/nas/longleaf/rhel8/apps/anaconda/2023.03.ood/lib/python3.10/site-packages/threadpoolctl.py\", line 515, in _make_module_from_path\n",
      "    module = module_class(filepath, prefix, user_api, internal_api)\n",
      "  File \"/nas/longleaf/rhel8/apps/anaconda/2023.03.ood/lib/python3.10/site-packages/threadpoolctl.py\", line 606, in __init__\n",
      "    self.version = self.get_version()\n",
      "  File \"/nas/longleaf/rhel8/apps/anaconda/2023.03.ood/lib/python3.10/site-packages/threadpoolctl.py\", line 646, in get_version\n",
      "    config = get_config().split()\n",
      "AttributeError: 'NoneType' object has no attribute 'split'\n",
      "Exception ignored on calling ctypes callback function: <function _ThreadpoolInfo._find_modules_with_dl_iterate_phdr.<locals>.match_module_callback at 0x7f69ca631c60>\n",
      "Traceback (most recent call last):\n",
      "  File \"/nas/longleaf/rhel8/apps/anaconda/2023.03.ood/lib/python3.10/site-packages/threadpoolctl.py\", line 400, in match_module_callback\n",
      "    self._make_module_from_path(filepath)\n",
      "  File \"/nas/longleaf/rhel8/apps/anaconda/2023.03.ood/lib/python3.10/site-packages/threadpoolctl.py\", line 515, in _make_module_from_path\n",
      "    module = module_class(filepath, prefix, user_api, internal_api)\n",
      "  File \"/nas/longleaf/rhel8/apps/anaconda/2023.03.ood/lib/python3.10/site-packages/threadpoolctl.py\", line 606, in __init__\n",
      "    self.version = self.get_version()\n",
      "  File \"/nas/longleaf/rhel8/apps/anaconda/2023.03.ood/lib/python3.10/site-packages/threadpoolctl.py\", line 646, in get_version\n",
      "    config = get_config().split()\n",
      "AttributeError: 'NoneType' object has no attribute 'split'\n",
      "Exception ignored on calling ctypes callback function: <function _ThreadpoolInfo._find_modules_with_dl_iterate_phdr.<locals>.match_module_callback at 0x7f69ca631ab0>\n",
      "Traceback (most recent call last):\n",
      "  File \"/nas/longleaf/rhel8/apps/anaconda/2023.03.ood/lib/python3.10/site-packages/threadpoolctl.py\", line 400, in match_module_callback\n",
      "    self._make_module_from_path(filepath)\n",
      "  File \"/nas/longleaf/rhel8/apps/anaconda/2023.03.ood/lib/python3.10/site-packages/threadpoolctl.py\", line 515, in _make_module_from_path\n",
      "    module = module_class(filepath, prefix, user_api, internal_api)\n",
      "  File \"/nas/longleaf/rhel8/apps/anaconda/2023.03.ood/lib/python3.10/site-packages/threadpoolctl.py\", line 606, in __init__\n",
      "    self.version = self.get_version()\n",
      "  File \"/nas/longleaf/rhel8/apps/anaconda/2023.03.ood/lib/python3.10/site-packages/threadpoolctl.py\", line 646, in get_version\n",
      "    config = get_config().split()\n",
      "AttributeError: 'NoneType' object has no attribute 'split'\n"
     ]
    },
    {
     "data": {
      "text/plain": [
       "{'CD': 8,\n",
       " 'test_stat': 0.11824350122520415,\n",
       " 'p_value': 0.0,\n",
       " 'singular_vals': array([0.1182435 , 0.16808648, 0.42584698, 0.48392107, 0.58180365,\n",
       "        0.68918889, 0.80683974, 0.89514646, 0.92018272, 0.98105305]),\n",
       " 'd1': 10,\n",
       " 'd2': 12}"
      ]
     },
     "execution_count": 4,
     "metadata": {},
     "output_type": "execute_result"
    }
   ],
   "source": [
    "# Etop\n",
    "np.random.seed(42)\n",
    "CDE(foreground_Etop, background_control)"
   ]
  },
  {
   "cell_type": "code",
   "execution_count": 5,
   "id": "cb296124-d2c6-4b20-9453-225521785786",
   "metadata": {},
   "outputs": [
    {
     "name": "stderr",
     "output_type": "stream",
     "text": [
      "Exception ignored on calling ctypes callback function: <function _ThreadpoolInfo._find_modules_with_dl_iterate_phdr.<locals>.match_module_callback at 0x7f69ca631ea0>\n",
      "Traceback (most recent call last):\n",
      "  File \"/nas/longleaf/rhel8/apps/anaconda/2023.03.ood/lib/python3.10/site-packages/threadpoolctl.py\", line 400, in match_module_callback\n",
      "    self._make_module_from_path(filepath)\n",
      "  File \"/nas/longleaf/rhel8/apps/anaconda/2023.03.ood/lib/python3.10/site-packages/threadpoolctl.py\", line 515, in _make_module_from_path\n",
      "    module = module_class(filepath, prefix, user_api, internal_api)\n",
      "  File \"/nas/longleaf/rhel8/apps/anaconda/2023.03.ood/lib/python3.10/site-packages/threadpoolctl.py\", line 606, in __init__\n",
      "    self.version = self.get_version()\n",
      "  File \"/nas/longleaf/rhel8/apps/anaconda/2023.03.ood/lib/python3.10/site-packages/threadpoolctl.py\", line 646, in get_version\n",
      "    config = get_config().split()\n",
      "AttributeError: 'NoneType' object has no attribute 'split'\n",
      "Exception ignored on calling ctypes callback function: <function _ThreadpoolInfo._find_modules_with_dl_iterate_phdr.<locals>.match_module_callback at 0x7f6a08de2200>\n",
      "Traceback (most recent call last):\n",
      "  File \"/nas/longleaf/rhel8/apps/anaconda/2023.03.ood/lib/python3.10/site-packages/threadpoolctl.py\", line 400, in match_module_callback\n",
      "    self._make_module_from_path(filepath)\n",
      "  File \"/nas/longleaf/rhel8/apps/anaconda/2023.03.ood/lib/python3.10/site-packages/threadpoolctl.py\", line 515, in _make_module_from_path\n",
      "    module = module_class(filepath, prefix, user_api, internal_api)\n",
      "  File \"/nas/longleaf/rhel8/apps/anaconda/2023.03.ood/lib/python3.10/site-packages/threadpoolctl.py\", line 606, in __init__\n",
      "    self.version = self.get_version()\n",
      "  File \"/nas/longleaf/rhel8/apps/anaconda/2023.03.ood/lib/python3.10/site-packages/threadpoolctl.py\", line 646, in get_version\n",
      "    config = get_config().split()\n",
      "AttributeError: 'NoneType' object has no attribute 'split'\n",
      "Exception ignored on calling ctypes callback function: <function _ThreadpoolInfo._find_modules_with_dl_iterate_phdr.<locals>.match_module_callback at 0x7f6a08de2200>\n",
      "Traceback (most recent call last):\n",
      "  File \"/nas/longleaf/rhel8/apps/anaconda/2023.03.ood/lib/python3.10/site-packages/threadpoolctl.py\", line 400, in match_module_callback\n",
      "    self._make_module_from_path(filepath)\n",
      "  File \"/nas/longleaf/rhel8/apps/anaconda/2023.03.ood/lib/python3.10/site-packages/threadpoolctl.py\", line 515, in _make_module_from_path\n",
      "    module = module_class(filepath, prefix, user_api, internal_api)\n",
      "  File \"/nas/longleaf/rhel8/apps/anaconda/2023.03.ood/lib/python3.10/site-packages/threadpoolctl.py\", line 606, in __init__\n",
      "    self.version = self.get_version()\n",
      "  File \"/nas/longleaf/rhel8/apps/anaconda/2023.03.ood/lib/python3.10/site-packages/threadpoolctl.py\", line 646, in get_version\n",
      "    config = get_config().split()\n",
      "AttributeError: 'NoneType' object has no attribute 'split'\n",
      "Exception ignored on calling ctypes callback function: <function _ThreadpoolInfo._find_modules_with_dl_iterate_phdr.<locals>.match_module_callback at 0x7f6a08de05e0>\n",
      "Traceback (most recent call last):\n",
      "  File \"/nas/longleaf/rhel8/apps/anaconda/2023.03.ood/lib/python3.10/site-packages/threadpoolctl.py\", line 400, in match_module_callback\n",
      "    self._make_module_from_path(filepath)\n",
      "  File \"/nas/longleaf/rhel8/apps/anaconda/2023.03.ood/lib/python3.10/site-packages/threadpoolctl.py\", line 515, in _make_module_from_path\n",
      "    module = module_class(filepath, prefix, user_api, internal_api)\n",
      "  File \"/nas/longleaf/rhel8/apps/anaconda/2023.03.ood/lib/python3.10/site-packages/threadpoolctl.py\", line 606, in __init__\n",
      "    self.version = self.get_version()\n",
      "  File \"/nas/longleaf/rhel8/apps/anaconda/2023.03.ood/lib/python3.10/site-packages/threadpoolctl.py\", line 646, in get_version\n",
      "    config = get_config().split()\n",
      "AttributeError: 'NoneType' object has no attribute 'split'\n"
     ]
    },
    {
     "data": {
      "text/plain": [
       "{'CD': 7,\n",
       " 'test_stat': 0.220255118354846,\n",
       " 'p_value': 0.0,\n",
       " 'singular_vals': array([0.22025512, 0.37392305, 0.59035934, 0.64095297, 0.75493582,\n",
       "        0.87317152, 0.8962471 , 0.94559443, 0.96174109, 0.9825771 ]),\n",
       " 'd1': 10,\n",
       " 'd2': 12}"
      ]
     },
     "execution_count": 5,
     "metadata": {},
     "output_type": "execute_result"
    }
   ],
   "source": [
    "# H2O2\n",
    "np.random.seed(42)\n",
    "CDE(foreground_H2O2, background_control)"
   ]
  },
  {
   "cell_type": "code",
   "execution_count": 6,
   "id": "2fd74de1-a666-4704-8536-b0c4b2a6696c",
   "metadata": {},
   "outputs": [
    {
     "name": "stderr",
     "output_type": "stream",
     "text": [
      "Exception ignored on calling ctypes callback function: <function _ThreadpoolInfo._find_modules_with_dl_iterate_phdr.<locals>.match_module_callback at 0x7f69ca631f30>\n",
      "Traceback (most recent call last):\n",
      "  File \"/nas/longleaf/rhel8/apps/anaconda/2023.03.ood/lib/python3.10/site-packages/threadpoolctl.py\", line 400, in match_module_callback\n",
      "    self._make_module_from_path(filepath)\n",
      "  File \"/nas/longleaf/rhel8/apps/anaconda/2023.03.ood/lib/python3.10/site-packages/threadpoolctl.py\", line 515, in _make_module_from_path\n",
      "    module = module_class(filepath, prefix, user_api, internal_api)\n",
      "  File \"/nas/longleaf/rhel8/apps/anaconda/2023.03.ood/lib/python3.10/site-packages/threadpoolctl.py\", line 606, in __init__\n",
      "    self.version = self.get_version()\n",
      "  File \"/nas/longleaf/rhel8/apps/anaconda/2023.03.ood/lib/python3.10/site-packages/threadpoolctl.py\", line 646, in get_version\n",
      "    config = get_config().split()\n",
      "AttributeError: 'NoneType' object has no attribute 'split'\n",
      "Exception ignored on calling ctypes callback function: <function _ThreadpoolInfo._find_modules_with_dl_iterate_phdr.<locals>.match_module_callback at 0x7f6a08de05e0>\n",
      "Traceback (most recent call last):\n",
      "  File \"/nas/longleaf/rhel8/apps/anaconda/2023.03.ood/lib/python3.10/site-packages/threadpoolctl.py\", line 400, in match_module_callback\n",
      "    self._make_module_from_path(filepath)\n",
      "  File \"/nas/longleaf/rhel8/apps/anaconda/2023.03.ood/lib/python3.10/site-packages/threadpoolctl.py\", line 515, in _make_module_from_path\n",
      "    module = module_class(filepath, prefix, user_api, internal_api)\n",
      "  File \"/nas/longleaf/rhel8/apps/anaconda/2023.03.ood/lib/python3.10/site-packages/threadpoolctl.py\", line 606, in __init__\n",
      "    self.version = self.get_version()\n",
      "  File \"/nas/longleaf/rhel8/apps/anaconda/2023.03.ood/lib/python3.10/site-packages/threadpoolctl.py\", line 646, in get_version\n",
      "    config = get_config().split()\n",
      "AttributeError: 'NoneType' object has no attribute 'split'\n",
      "Exception ignored on calling ctypes callback function: <function _ThreadpoolInfo._find_modules_with_dl_iterate_phdr.<locals>.match_module_callback at 0x7f6a08de2200>\n",
      "Traceback (most recent call last):\n",
      "  File \"/nas/longleaf/rhel8/apps/anaconda/2023.03.ood/lib/python3.10/site-packages/threadpoolctl.py\", line 400, in match_module_callback\n",
      "    self._make_module_from_path(filepath)\n",
      "  File \"/nas/longleaf/rhel8/apps/anaconda/2023.03.ood/lib/python3.10/site-packages/threadpoolctl.py\", line 515, in _make_module_from_path\n",
      "    module = module_class(filepath, prefix, user_api, internal_api)\n",
      "  File \"/nas/longleaf/rhel8/apps/anaconda/2023.03.ood/lib/python3.10/site-packages/threadpoolctl.py\", line 606, in __init__\n",
      "    self.version = self.get_version()\n",
      "  File \"/nas/longleaf/rhel8/apps/anaconda/2023.03.ood/lib/python3.10/site-packages/threadpoolctl.py\", line 646, in get_version\n",
      "    config = get_config().split()\n",
      "AttributeError: 'NoneType' object has no attribute 'split'\n",
      "Exception ignored on calling ctypes callback function: <function _ThreadpoolInfo._find_modules_with_dl_iterate_phdr.<locals>.match_module_callback at 0x7f6a08de2200>\n",
      "Traceback (most recent call last):\n",
      "  File \"/nas/longleaf/rhel8/apps/anaconda/2023.03.ood/lib/python3.10/site-packages/threadpoolctl.py\", line 400, in match_module_callback\n",
      "    self._make_module_from_path(filepath)\n",
      "  File \"/nas/longleaf/rhel8/apps/anaconda/2023.03.ood/lib/python3.10/site-packages/threadpoolctl.py\", line 515, in _make_module_from_path\n",
      "    module = module_class(filepath, prefix, user_api, internal_api)\n",
      "  File \"/nas/longleaf/rhel8/apps/anaconda/2023.03.ood/lib/python3.10/site-packages/threadpoolctl.py\", line 606, in __init__\n",
      "    self.version = self.get_version()\n",
      "  File \"/nas/longleaf/rhel8/apps/anaconda/2023.03.ood/lib/python3.10/site-packages/threadpoolctl.py\", line 646, in get_version\n",
      "    config = get_config().split()\n",
      "AttributeError: 'NoneType' object has no attribute 'split'\n"
     ]
    },
    {
     "data": {
      "text/plain": [
       "{'CD': 5,\n",
       " 'test_stat': 0.3003133950308991,\n",
       " 'p_value': 0.355,\n",
       " 'singular_vals': array([0.3003134 , 0.39087243, 0.47791836, 0.79047855, 0.81259976,\n",
       "        0.90037128, 0.9620981 , 0.96851792, 0.98545592]),\n",
       " 'd1': 9,\n",
       " 'd2': 12}"
      ]
     },
     "execution_count": 6,
     "metadata": {},
     "output_type": "execute_result"
    }
   ],
   "source": [
    "# Starve \n",
    "np.random.seed(42)\n",
    "CDE(foreground_Starve, background_control)"
   ]
  },
  {
   "cell_type": "code",
   "execution_count": null,
   "id": "9b07a0cb-a6d5-4eaf-84fd-ad92656614b6",
   "metadata": {},
   "outputs": [],
   "source": []
  }
 ],
 "metadata": {
  "kernelspec": {
   "display_name": "Python 3 (ipykernel)",
   "language": "python",
   "name": "python3"
  },
  "language_info": {
   "codemirror_mode": {
    "name": "ipython",
    "version": 3
   },
   "file_extension": ".py",
   "mimetype": "text/x-python",
   "name": "python",
   "nbconvert_exporter": "python",
   "pygments_lexer": "ipython3",
   "version": "3.10.9"
  }
 },
 "nbformat": 4,
 "nbformat_minor": 5
}
