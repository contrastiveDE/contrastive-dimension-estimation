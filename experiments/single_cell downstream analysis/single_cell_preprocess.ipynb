{
 "cells": [
  {
   "cell_type": "code",
   "execution_count": 1,
   "id": "4095b7e6-cf55-4fe4-bd26-58fd1a46f1c1",
   "metadata": {},
   "outputs": [],
   "source": [
    "import numpy as np\n",
    "import pandas as pd"
   ]
  },
  {
   "cell_type": "markdown",
   "id": "803c0235-549e-4bdb-9441-80e50b5e91f2",
   "metadata": {},
   "source": [
    "## Load Data"
   ]
  },
  {
   "cell_type": "code",
   "execution_count": 2,
   "id": "e6e249cd-e7e5-4464-98d2-9b477a43c152",
   "metadata": {},
   "outputs": [],
   "source": [
    "conditions = pd.read_csv(\"conditions.csv\")\n",
    "data_matrix = pd.read_csv(\"data_matrix.csv\", header=None)"
   ]
  },
  {
   "cell_type": "code",
   "execution_count": 3,
   "id": "f05de077-97ce-4e50-9f90-b7b8ad22a37b",
   "metadata": {},
   "outputs": [
    {
     "name": "stdout",
     "output_type": "stream",
     "text": [
      "(23605, 1)\n",
      "(23605, 47)\n"
     ]
    }
   ],
   "source": [
    "print(conditions.shape)\n",
    "print(data_matrix.shape)"
   ]
  },
  {
   "cell_type": "code",
   "execution_count": 4,
   "id": "72bf94c4-75e4-4cbd-80ac-e44875d0407f",
   "metadata": {},
   "outputs": [
    {
     "name": "stdout",
     "output_type": "stream",
     "text": [
      "      Condition_group\n",
      "0                 Ctl\n",
      "1                 Ctl\n",
      "2                 Ctl\n",
      "3                 Ctl\n",
      "4                 Ctl\n",
      "...               ...\n",
      "23600          Starve\n",
      "23601          Starve\n",
      "23602          Starve\n",
      "23603          Starve\n",
      "23604          Starve\n",
      "\n",
      "[23605 rows x 1 columns]\n"
     ]
    }
   ],
   "source": [
    "print(conditions)"
   ]
  },
  {
   "cell_type": "code",
   "execution_count": 5,
   "id": "6f8bc79e-40e8-4957-9c83-e7e143101217",
   "metadata": {},
   "outputs": [
    {
     "name": "stdout",
     "output_type": "stream",
     "text": [
      "         0         1    2         3          4         5         6         7   \\\n",
      "0      1771  0.005585  442  0.005493  14.125597  0.016205  0.012055  0.004044   \n",
      "1      2360  0.004646  485  0.005112  18.085130  0.014656  0.009522  0.004120   \n",
      "2      2227  0.008637  459  0.008988   9.866560  0.023621  0.010681  0.006447   \n",
      "3      1531  0.011658  329  0.006600   8.015503  0.015663  0.011040  0.014763   \n",
      "4      1225  0.004150  358  0.005341  13.628092  0.018753  0.010025  0.004334   \n",
      "...     ...       ...  ...       ...        ...       ...       ...       ...   \n",
      "23600  1452  0.005951  254  0.006622   5.813291  0.020645  0.010330  0.011261   \n",
      "23601  2209  0.004913  224  0.005097   5.705043  0.023178  0.010391  0.010285   \n",
      "23602  2027  0.005737  195  0.006966   5.359396  0.022950  0.011131  0.012383   \n",
      "23603  1680  0.005531  255  0.006813   5.214099  0.031601  0.015015  0.007515   \n",
      "23604  1430  0.005142  269  0.005142   4.677318  0.016388  0.009644  0.007309   \n",
      "\n",
      "             8         9   ...        37        38        39        40  \\\n",
      "0      0.005051  0.002884  ...  1.471579  0.008194  0.379012  0.007004   \n",
      "1      0.004128  0.003655  ...  1.577146  0.009667  0.741036  0.008911   \n",
      "2      0.008507  0.003929  ...  1.308493  0.007858  0.330857  0.017441   \n",
      "3      0.006439  0.011742  ...  0.054336  0.006203  0.447944  0.007790   \n",
      "4      0.004608  0.003281  ...  1.538226  0.008881  0.309136  0.009354   \n",
      "...         ...       ...  ...       ...       ...       ...       ...   \n",
      "23600  0.004349  0.004715  ...  0.023448  0.008118  0.238208  0.007126   \n",
      "23601  0.004013  0.009964  ...  0.050000  0.008774  0.245113  0.006577   \n",
      "23602  0.005295  0.010338  ...  0.016577  0.009384  0.332483  0.007706   \n",
      "23603  0.005974  0.008125  ...  0.688992  0.025666  0.237071  0.009453   \n",
      "23604  0.004616  0.008705  ...  0.097826  0.007454  0.424469  0.006218   \n",
      "\n",
      "             41        42        43        44        45        46  \n",
      "0      1.581132  0.002441  2.989418  0.004425  3.330097  0.829787  \n",
      "1      1.251852  0.002426  1.668058  0.004288  3.331395  0.952295  \n",
      "2      0.933728  0.002304  3.996117  0.018410  3.671605  0.567050  \n",
      "3      0.408269  0.002197  1.126056  0.006188  2.338078  0.779562  \n",
      "4      1.204225  0.002228  3.395349  0.004028  2.834951  1.083189  \n",
      "...         ...       ...       ...       ...       ...       ...  \n",
      "23600  0.565041  0.004562  2.252427  0.005524  2.128631  0.590144  \n",
      "23601  0.583086  0.004517  1.091884  0.006638  1.752337  0.536398  \n",
      "23602  0.523721  0.002525  0.973432  0.006744  2.063966  0.519608  \n",
      "23603  0.967513  0.003601  1.489202  0.007553  2.576271  0.556077  \n",
      "23604  0.793319  0.003624  0.765118  0.006348  2.497024  0.537136  \n",
      "\n",
      "[23605 rows x 47 columns]\n"
     ]
    }
   ],
   "source": [
    "print(data_matrix)"
   ]
  },
  {
   "cell_type": "markdown",
   "id": "1cbfb965-03ce-4cac-93c9-5ddc6ea0be24",
   "metadata": {},
   "source": [
    "## Use Z-score to normalize "
   ]
  },
  {
   "cell_type": "code",
   "execution_count": 6,
   "id": "649ce93a-184b-4247-a698-3366db602d0f",
   "metadata": {},
   "outputs": [],
   "source": [
    "mean = np.mean(data_matrix, axis=0)\n",
    "std_dev = np.std(data_matrix, axis=0)\n",
    "z_scores = (data_matrix - mean) / std_dev"
   ]
  },
  {
   "cell_type": "code",
   "execution_count": 7,
   "id": "1f812e4f-7509-4dff-af49-a7ccea46406e",
   "metadata": {},
   "outputs": [
    {
     "name": "stdout",
     "output_type": "stream",
     "text": [
      "             0         1         2         3         4         5         6   \\\n",
      "0     -0.551756 -0.669576  0.053074 -0.502885  1.030075 -0.332675 -0.078592   \n",
      "1     -0.436534 -0.813235  0.259190 -0.595853  1.970682 -0.633432 -0.760325   \n",
      "2     -0.462552 -0.202391  0.134562  0.348699  0.018320  1.107400 -0.448206   \n",
      "3     -0.598706  0.260122 -0.488581 -0.233279 -0.421407 -0.437866 -0.351696   \n",
      "4     -0.658567 -0.889153 -0.349572 -0.540072  0.911891  0.162166 -0.624800   \n",
      "...         ...       ...       ...       ...       ...       ...       ...   \n",
      "23600 -0.614160 -0.613514 -0.848086 -0.227701 -0.944554  0.529592 -0.542663   \n",
      "23601 -0.466073 -0.772357 -0.991888 -0.599572 -0.970268  1.021470 -0.526236   \n",
      "23602 -0.501677 -0.646217 -1.130897 -0.144030 -1.052379  0.977023 -0.327055   \n",
      "23603 -0.569558 -0.677752 -0.843292 -0.181217 -1.086894  2.657111  0.718132   \n",
      "23604 -0.618464 -0.737318 -0.776185 -0.588416 -1.214410 -0.297118 -0.727470   \n",
      "\n",
      "             7         8         9   ...        37        38        39  \\\n",
      "0     -0.765102 -0.434918 -0.885076  ...  0.884306  0.082734 -0.594778   \n",
      "1     -0.757607 -0.829794 -0.746649  ...  1.032483  0.493371  1.445899   \n",
      "2     -0.529007  1.043421 -0.697309  ...  0.655396 -0.010882 -0.866224   \n",
      "3      0.287960  0.159029  0.706148  ... -1.104965 -0.472583 -0.206220   \n",
      "4     -0.736621 -0.624197 -0.813806  ...  0.977854  0.274223 -0.988659   \n",
      "...         ...       ...       ...  ...       ...       ...       ...   \n",
      "23600 -0.056066 -0.735154 -0.556141  ... -1.148320  0.061458 -1.388475   \n",
      "23601 -0.152003 -0.878746  0.386807  ... -1.111052  0.244436 -1.349551   \n",
      "23602  0.054112 -0.330488  0.453964  ... -1.157965  0.414648 -0.857058   \n",
      "23603 -0.424075 -0.040041  0.056501  ... -0.214149  4.955060 -1.394879   \n",
      "23604 -0.444312 -0.620934  0.160664  ... -1.043922 -0.123648 -0.338543   \n",
      "\n",
      "             40        41        42        43        44        45        46  \n",
      "0     -0.659477  0.628996 -0.927937  0.241289 -0.525043  0.680188  0.146215  \n",
      "1     -0.156702  0.180342 -0.933142 -0.546231 -0.575995  0.682353  0.584256  \n",
      "2      2.091708 -0.253111 -0.974779  0.841274  4.663636  1.249974 -0.793232  \n",
      "3     -0.452334 -0.969064 -1.011212 -0.869260  0.128850 -0.974941 -0.033371  \n",
      "4     -0.040059  0.115450 -1.000802  0.483221 -0.672239 -0.145935  1.052281  \n",
      "...         ...       ...       ...       ...       ...       ...       ...  \n",
      "23600 -0.627300 -0.755458 -0.204487 -0.197952 -0.117422 -1.324392 -0.710655  \n",
      "23601 -0.772099 -0.730871 -0.220101 -0.889627  0.295861 -1.952218 -0.902829  \n",
      "23602 -0.474456 -0.811757 -0.899311 -0.960223  0.335491 -1.432282 -0.962866  \n",
      "23603 -0.013914 -0.207078 -0.532382 -0.652828  0.635545 -0.577529 -0.832466  \n",
      "23604 -0.866621 -0.444422 -0.524575 -1.084376  0.188294 -0.709749 -0.900192  \n",
      "\n",
      "[23605 rows x 47 columns]\n"
     ]
    }
   ],
   "source": [
    "print(z_scores)"
   ]
  },
  {
   "cell_type": "code",
   "execution_count": 8,
   "id": "9e7f7233-ad90-4582-855c-ee3018b3bd52",
   "metadata": {},
   "outputs": [
    {
     "name": "stdout",
     "output_type": "stream",
     "text": [
      "Mean:  0    -1.155892e-16\n",
      "1    -3.226866e-16\n",
      "2    -2.889731e-17\n",
      "3    -1.348541e-16\n",
      "4    -1.155892e-16\n",
      "5    -1.637514e-16\n",
      "6    -3.660326e-16\n",
      "7    -7.705950e-17\n",
      "8    -2.408109e-16\n",
      "9    -3.660326e-16\n",
      "10    1.252217e-16\n",
      "11   -2.359947e-16\n",
      "12    1.926487e-16\n",
      "13    6.742706e-17\n",
      "14    1.830163e-16\n",
      "15   -9.632437e-17\n",
      "16   -3.756650e-16\n",
      "17    2.335866e-16\n",
      "18   -3.756650e-16\n",
      "19   -1.733839e-16\n",
      "20   -2.119136e-16\n",
      "21   -7.705950e-17\n",
      "22    2.889731e-17\n",
      "23   -7.705950e-17\n",
      "24    2.889731e-17\n",
      "25    6.742706e-17\n",
      "26   -2.504434e-16\n",
      "27   -1.830163e-16\n",
      "28   -3.949299e-16\n",
      "29   -2.986055e-16\n",
      "30   -9.632437e-17\n",
      "31   -2.793407e-16\n",
      "32   -7.513301e-16\n",
      "33   -1.926487e-16\n",
      "34   -2.889731e-16\n",
      "35    5.779462e-17\n",
      "36   -4.816219e-16\n",
      "37   -1.541190e-16\n",
      "38   -3.467677e-16\n",
      "39   -3.852975e-17\n",
      "40   -6.068435e-16\n",
      "41   -7.705950e-17\n",
      "42    8.187571e-17\n",
      "43    2.889731e-17\n",
      "44    2.119136e-16\n",
      "45    1.348541e-16\n",
      "46   -1.926487e-17\n",
      "dtype: float64\n",
      "Variance:  0     1.0\n",
      "1     1.0\n",
      "2     1.0\n",
      "3     1.0\n",
      "4     1.0\n",
      "5     1.0\n",
      "6     1.0\n",
      "7     1.0\n",
      "8     1.0\n",
      "9     1.0\n",
      "10    1.0\n",
      "11    1.0\n",
      "12    1.0\n",
      "13    1.0\n",
      "14    1.0\n",
      "15    1.0\n",
      "16    1.0\n",
      "17    1.0\n",
      "18    1.0\n",
      "19    1.0\n",
      "20    1.0\n",
      "21    1.0\n",
      "22    1.0\n",
      "23    1.0\n",
      "24    1.0\n",
      "25    1.0\n",
      "26    1.0\n",
      "27    1.0\n",
      "28    1.0\n",
      "29    1.0\n",
      "30    1.0\n",
      "31    1.0\n",
      "32    1.0\n",
      "33    1.0\n",
      "34    1.0\n",
      "35    1.0\n",
      "36    1.0\n",
      "37    1.0\n",
      "38    1.0\n",
      "39    1.0\n",
      "40    1.0\n",
      "41    1.0\n",
      "42    1.0\n",
      "43    1.0\n",
      "44    1.0\n",
      "45    1.0\n",
      "46    1.0\n",
      "dtype: float64\n"
     ]
    }
   ],
   "source": [
    "# Check mean and variance: \n",
    "print(\"Mean: \", np.mean(z_scores, axis=0))\n",
    "print(\"Variance: \", np.var(z_scores, axis=0))"
   ]
  },
  {
   "cell_type": "code",
   "execution_count": 9,
   "id": "be8c05e4-b018-4d55-93f2-d3325ef5dbd0",
   "metadata": {},
   "outputs": [],
   "source": [
    "# import scipy\n",
    "# from scipy.stats import zscore\n",
    "# zscore(data_matrix, axis=0)"
   ]
  },
  {
   "cell_type": "markdown",
   "id": "f25c612e-856a-480b-a97d-c880c9073585",
   "metadata": {},
   "source": [
    "### Save the normalized_data_matrix.csv file"
   ]
  },
  {
   "cell_type": "code",
   "execution_count": 10,
   "id": "7c571f7f-d7fc-4e38-a21d-ea6eb75c7efd",
   "metadata": {},
   "outputs": [],
   "source": [
    "z_scores.to_csv(\"normalized_data_matrix.csv\", index=False)"
   ]
  },
  {
   "cell_type": "markdown",
   "id": "c70511e4-6b0a-4ede-be20-edb0d926f012",
   "metadata": {},
   "source": [
    "# Separate the data into foreground and background"
   ]
  },
  {
   "cell_type": "code",
   "execution_count": 11,
   "id": "35185997-ea06-4820-a612-4eda9a01ee01",
   "metadata": {},
   "outputs": [
    {
     "name": "stdout",
     "output_type": "stream",
     "text": [
      "['Ctl' 'Etop' 'H2O2' 'Starve']\n"
     ]
    }
   ],
   "source": [
    "print(np.unique(conditions))"
   ]
  },
  {
   "cell_type": "code",
   "execution_count": 12,
   "id": "0111f49f-ef9b-4879-bd88-5e1fe5560067",
   "metadata": {},
   "outputs": [
    {
     "name": "stdout",
     "output_type": "stream",
     "text": [
      "      Condition_group\n",
      "0                 Ctl\n",
      "1                 Ctl\n",
      "2                 Ctl\n",
      "3                 Ctl\n",
      "4                 Ctl\n",
      "...               ...\n",
      "23600             NaN\n",
      "23601             NaN\n",
      "23602             NaN\n",
      "23603             NaN\n",
      "23604             NaN\n",
      "\n",
      "[23605 rows x 1 columns]\n",
      "Index([    0,     1,     2,     3,     4,     5,     6,     7,     8,     9,\n",
      "       ...\n",
      "       11258, 11259, 11260, 11261, 11262, 11263, 11264, 11265, 11266, 11267],\n",
      "      dtype='int64', length=11268)\n"
     ]
    }
   ],
   "source": [
    "# Get the indices for each conditions \n",
    "\n",
    "# Control\n",
    "control = conditions[conditions == 'Ctl']\n",
    "print(control)\n",
    "control = control.dropna()                \n",
    "control_idx = control.index\n",
    "print(control_idx)"
   ]
  },
  {
   "cell_type": "code",
   "execution_count": 13,
   "id": "72caa501-b700-4dff-ae46-ae1943890a8d",
   "metadata": {},
   "outputs": [
    {
     "name": "stdout",
     "output_type": "stream",
     "text": [
      "Index([11268, 11269, 11270, 11271, 11272, 11273, 11274, 11275, 11276, 11277,\n",
      "       ...\n",
      "       15573, 15574, 15575, 15576, 15577, 15578, 15579, 15580, 15581, 15582],\n",
      "      dtype='int64', length=4315)\n"
     ]
    }
   ],
   "source": [
    "# Etop\n",
    "Etop = conditions[conditions == 'Etop']\n",
    "Etop = Etop.dropna()\n",
    "Etop_idx = Etop.index\n",
    "print(Etop_idx)"
   ]
  },
  {
   "cell_type": "code",
   "execution_count": 14,
   "id": "f4c9b523-7151-451a-8ba2-3edb20a32df9",
   "metadata": {},
   "outputs": [
    {
     "name": "stdout",
     "output_type": "stream",
     "text": [
      "Index([15583, 15584, 15585, 15586, 15587, 15588, 15589, 15590, 15591, 15592,\n",
      "       ...\n",
      "       20588, 20589, 20590, 20591, 20592, 20593, 20594, 20595, 20596, 20597],\n",
      "      dtype='int64', length=5015)\n"
     ]
    }
   ],
   "source": [
    "# H2O2\n",
    "H2O2 = conditions[conditions == 'H2O2']\n",
    "H2O2 = H2O2.dropna()\n",
    "H2O2_idx = H2O2.index\n",
    "print(H2O2_idx)"
   ]
  },
  {
   "cell_type": "code",
   "execution_count": 15,
   "id": "1d917bc1-7a0e-45ba-9b06-6149e206b2bf",
   "metadata": {},
   "outputs": [
    {
     "name": "stdout",
     "output_type": "stream",
     "text": [
      "Index([20598, 20599, 20600, 20601, 20602, 20603, 20604, 20605, 20606, 20607,\n",
      "       ...\n",
      "       23595, 23596, 23597, 23598, 23599, 23600, 23601, 23602, 23603, 23604],\n",
      "      dtype='int64', length=3007)\n"
     ]
    }
   ],
   "source": [
    "# Starve\n",
    "Starve = conditions[conditions == 'Starve']\n",
    "Starve = Starve.dropna()\n",
    "Starve_idx = Starve.index\n",
    "print(Starve_idx)"
   ]
  },
  {
   "cell_type": "markdown",
   "id": "7d2346fd-feeb-4e34-aee0-d23fc86e1fc0",
   "metadata": {},
   "source": [
    "## Use indices to get foreground for three treatments and backgrounds for control"
   ]
  },
  {
   "cell_type": "code",
   "execution_count": 16,
   "id": "cd8c1581-20f4-44b4-ab01-50ab71a043cf",
   "metadata": {},
   "outputs": [],
   "source": [
    "normalized_data = pd.read_csv(\"normalized_data_matrix.csv\")\n",
    "# print(normalized_data)"
   ]
  },
  {
   "cell_type": "code",
   "execution_count": 17,
   "id": "c2efb457-23e1-46e1-a5eb-63079ba73f4f",
   "metadata": {},
   "outputs": [],
   "source": [
    "# background \n",
    "background = normalized_data.iloc[control_idx,]\n",
    "background.to_csv(\"background_control.csv\", index=False)"
   ]
  },
  {
   "cell_type": "code",
   "execution_count": 18,
   "id": "60fbf1cc-eda2-4ebd-8df6-9664fc6b2308",
   "metadata": {},
   "outputs": [],
   "source": [
    "# foreground - Etop\n",
    "fore_Etop = normalized_data.iloc[Etop_idx, ]\n",
    "fore_Etop.to_csv(\"foreground_Etop.csv\", index=False)"
   ]
  },
  {
   "cell_type": "code",
   "execution_count": 19,
   "id": "6872814e-d6fb-4a19-a736-442079804fa0",
   "metadata": {},
   "outputs": [],
   "source": [
    "# foreground - H2O2\n",
    "fore_H2O2 = normalized_data.iloc[H2O2_idx, ]\n",
    "fore_H2O2.to_csv(\"foreground_H2O2.csv\", index=False)"
   ]
  },
  {
   "cell_type": "code",
   "execution_count": 20,
   "id": "c15293ef-8c0f-4ccb-9003-3628ce29a8c6",
   "metadata": {},
   "outputs": [],
   "source": [
    "# foreground - Starve\n",
    "fore_Starve = normalized_data.iloc[Starve_idx, ]\n",
    "fore_Starve.to_csv(\"foreground_Starve.csv\", index=False)"
   ]
  },
  {
   "cell_type": "markdown",
   "id": "422997bc-cfc4-45a3-97ee-d956e95c07ad",
   "metadata": {},
   "source": [
    "## Check data file shape"
   ]
  },
  {
   "cell_type": "code",
   "execution_count": 21,
   "id": "89e8d1eb-d428-4560-b683-f7e20025b4d5",
   "metadata": {},
   "outputs": [
    {
     "name": "stdout",
     "output_type": "stream",
     "text": [
      "background shape:  (11268, 47)\n",
      "foreground_Etop shape:  (4315, 47)\n",
      "foreground_H2O2 shape:  (5015, 47)\n",
      "foreground_Starve shape:  (3007, 47)\n"
     ]
    }
   ],
   "source": [
    "background_control = pd.read_csv(\"background_control.csv\")\n",
    "foreground_Etop = pd.read_csv(\"foreground_Etop.csv\")\n",
    "foreground_H2O2 = pd.read_csv(\"foreground_H2O2.csv\")\n",
    "foreground_Starve = pd.read_csv(\"foreground_Starve.csv\")\n",
    "\n",
    "print(\"background shape: \", background_control.shape)\n",
    "print(\"foreground_Etop shape: \", foreground_Etop.shape)\n",
    "print(\"foreground_H2O2 shape: \", foreground_H2O2.shape)\n",
    "print(\"foreground_Starve shape: \", foreground_Starve.shape)"
   ]
  },
  {
   "cell_type": "code",
   "execution_count": 22,
   "id": "6a0326c4-1557-4098-8d77-89a01538115d",
   "metadata": {},
   "outputs": [
    {
     "name": "stdout",
     "output_type": "stream",
     "text": [
      "(23605, 47)\n",
      "23605\n"
     ]
    }
   ],
   "source": [
    "# Check:\n",
    "print(data_matrix.shape) \n",
    "print(11268 + 4315 + 5015 + 3007) "
   ]
  },
  {
   "cell_type": "code",
   "execution_count": null,
   "id": "9abed955-bab5-460c-b03f-f70518d26fbb",
   "metadata": {},
   "outputs": [],
   "source": []
  }
 ],
 "metadata": {
  "kernelspec": {
   "display_name": "Python 3 (ipykernel)",
   "language": "python",
   "name": "python3"
  },
  "language_info": {
   "codemirror_mode": {
    "name": "ipython",
    "version": 3
   },
   "file_extension": ".py",
   "mimetype": "text/x-python",
   "name": "python",
   "nbconvert_exporter": "python",
   "pygments_lexer": "ipython3",
   "version": "3.10.9"
  }
 },
 "nbformat": 4,
 "nbformat_minor": 5
}
